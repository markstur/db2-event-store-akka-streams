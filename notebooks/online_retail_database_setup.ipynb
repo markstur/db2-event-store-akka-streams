{
 "cells": [
  {
   "cell_type": "markdown",
   "metadata": {},
   "source": [
    "# Setup for Db2 Event Store Order Details Database\n",
    "\n",
    "This notebook uses the [Scala](https://www.scala-lang.org/) programming language\n",
    "to interact with IBM Db2 Event Store.\n",
    "\n",
    "1. Connect to IBM Db2 Event Store\n",
    "2. Create a database\n",
    "3. Define a table schema\n",
    "4. Create a table\n",
    "5. Query the table"
   ]
  },
  {
   "cell_type": "markdown",
   "metadata": {},
   "source": [
    "## Connect to IBM Db2 Event Store\n",
    "\n",
    "### Determine the IP address of your host\n",
    "\n",
    "Obtain the IP address of the host that you want to connect to by running the appropriate command for your operating system:\n",
    "\n",
    "* On Mac, run: `ifconfig`\n",
    "* On Windows, run: `ipconfig`\n",
    "* On Linux, run: `hostname -i`\n",
    "\n",
    "Edit the `HOST = \"XXX.XXX.XXX.XXX\"` value in the next cell to provide the IP address."
   ]
  },
  {
   "cell_type": "code",
   "execution_count": null,
   "metadata": {
    "collapsed": false
   },
   "outputs": [],
   "source": [
    "// Set your host IP address\n",
    "var host = \"XXX.XXX.XXX.XXX\"\n",
    "\n",
    "//Port will be 1100 for version 1.1.2 or later (5555 for version 1.1.1)\n",
    "var port = \"1100\"\n",
    "\n",
    "// Database name\n",
    "var db = \"TESTDB\"\n",
    "\n",
    "// Table name\n",
    "var tableName = \"OnlineRetailOrderDetail\"\n",
    "var cancelTableName = \"OnlineRetailCancelDetail\""
   ]
  },
  {
   "cell_type": "markdown",
   "metadata": {},
   "source": [
    "## Import Scala packages"
   ]
  },
  {
   "cell_type": "code",
   "execution_count": null,
   "metadata": {
    "collapsed": false
   },
   "outputs": [],
   "source": [
    "import sys.process._\n",
    "import scala.concurrent.{Await, Future}\n",
    "import scala.concurrent.duration.Duration\n",
    "import collection.JavaConverters._\n",
    "import org.apache.spark.sql.Row\n",
    "import org.apache.spark.sql.types._\n",
    "import org.apache.spark.sql.ibm.event.EventSession\n",
    "import org.apache.spark.sql.SparkSession\n",
    "import org.apache.spark.sql.DataFrameReader\n",
    "\n",
    "import com.ibm.event.catalog.TableSchema\n",
    "import com.ibm.event.oltp.EventContext\n",
    "import com.ibm.event.example.DataGenerator\n",
    "import com.ibm.event.common.ConfigurationReader\n",
    "import com.ibm.event.oltp.InsertResult"
   ]
  },
  {
   "cell_type": "markdown",
   "metadata": {},
   "source": [
    "## Connect to Event Store"
   ]
  },
  {
   "cell_type": "code",
   "execution_count": null,
   "metadata": {
    "collapsed": false
   },
   "outputs": [],
   "source": [
    "ConfigurationReader.setConnectionEndpoints(host + \":\" + port)"
   ]
  },
  {
   "cell_type": "markdown",
   "metadata": {},
   "source": [
    "## Create a database\n",
    "\n",
    "Only one database can be active in Event Store. If you already have a database, you don't need to create one.\n",
    "To create a database in Event Store, you can use the createDatabase function. If you want to drop an existing\n",
    "database to create a new one, use the dropDatabase function first."
   ]
  },
  {
   "cell_type": "code",
   "execution_count": null,
   "metadata": {
    "collapsed": false
   },
   "outputs": [],
   "source": [
    "// See the comments and run this cell if you need to DROP and/or CREATE the database.\n",
    "\n",
    "// EventContext.dropDatabase(db)  // Uncomment this if you want to drop an existing TESTDB\n",
    "var created = EventContext.createDatabase(db) // Comment this out to re-use an existing TESTDB\n",
    "var error =  created.openDatabase()\n",
    "error.map(e => sys.error(e.toString))"
   ]
  },
  {
   "cell_type": "code",
   "execution_count": null,
   "metadata": {
    "collapsed": false
   },
   "outputs": [],
   "source": [
    "EventContext.openDatabase(db)\n",
    "var eventContext = EventContext.getEventContext"
   ]
  },
  {
   "cell_type": "markdown",
   "metadata": {},
   "source": [
    "## Create a table\n",
    "\n",
    "### Define the schema"
   ]
  },
  {
   "cell_type": "code",
   "execution_count": null,
   "metadata": {
    "collapsed": false
   },
   "outputs": [],
   "source": [
    "var orderDetailStruct = StructType(Array(\n",
    "  StructField(\"id\", LongType, nullable = false),\n",
    "  StructField(\"InvoiceNo\", LongType, nullable = false),\n",
    "  StructField(\"StockCode\", StringType, nullable = false),\n",
    "  StructField(\"Description\", StringType, nullable = false),\n",
    "  StructField(\"Quantity\", IntegerType, nullable = false),\n",
    "  StructField(\"InvoiceDate\", TimestampType, nullable = false),\n",
    "  StructField(\"UnitPrice\", DoubleType, nullable = false),\n",
    "  StructField(\"CustomerId\", StringType, nullable = false),\n",
    "  StructField(\"Country\", StringType, nullable = false)))\n",
    "\n",
    "// Define table schema for order details\n",
    "var tableSchema = TableSchema(\n",
    "  tableName,\n",
    "  orderDetailStruct,\n",
    "  shardingColumns = Seq(\"InvoiceNo\"),\n",
    "  pkColumns = Seq(\"InvoiceNo\", \"id\"))\n",
    "\n",
    "// Define table schema for cancellation details\n",
    "var cancelTableSchema = TableSchema(\n",
    "  cancelTableName,\n",
    "  orderDetailStruct,\n",
    "  shardingColumns = Seq(\"InvoiceNo\"),\n",
    "  pkColumns = Seq(\"InvoiceNo\", \"id\"))"
   ]
  },
  {
   "cell_type": "markdown",
   "metadata": {},
   "source": [
    "### Create the Table\n",
    "If you want to drop the existing table to create a new one, use the dropTable function first."
   ]
  },
  {
   "cell_type": "code",
   "execution_count": null,
   "metadata": {
    "collapsed": false
   },
   "outputs": [],
   "source": [
    "// Create the tables - skip if tables are already created\n",
    "\n",
    "// eventContext.dropTable(tableSchema.tableName)  // Uncomment to drop existing table\n",
    "// eventContext.dropTable(cancelTableSchema.tableName)  // Uncomment to drop existing table\n",
    "var res = eventContext.createTable(tableSchema)\n",
    "if (res.isDefined) {\n",
    "  println(s\"Error while creating table ${tableSchema.tableName}\\n: ${res.get}\")\n",
    "} else {\n",
    "  println(s\"Table ${tableSchema.tableName} successfully created.\")\n",
    "}\n",
    "var res2 = eventContext.createTable(cancelTableSchema)\n",
    "if (res2.isDefined) {\n",
    "  println(s\"Error while creating table ${cancelTableSchema.tableName}\\n: ${res2.get}\")\n",
    "} else {\n",
    "  println(s\"Table ${cancelTableSchema.tableName} successfully created.\")\n",
    "}"
   ]
  },
  {
   "cell_type": "markdown",
   "metadata": {},
   "source": [
    "## Load data from the CSV file to a DataFrame\n",
    "Use the `add data assets` in the UI to make the file available to the notebook.\n",
    "Then read the file from the assets directory into a DataFrame."
   ]
  },
  {
   "cell_type": "code",
   "execution_count": null,
   "metadata": {
    "collapsed": true
   },
   "outputs": [],
   "source": [
    "// Initialize spark session\n",
    "var spark = SparkSession.builder().getOrCreate()"
   ]
  },
  {
   "cell_type": "markdown",
   "metadata": {},
   "source": [
    "## Load data from the DataFrame to the table\n",
    "Use the batchInsert function to load the data."
   ]
  },
  {
   "cell_type": "code",
   "execution_count": null,
   "metadata": {
    "collapsed": false
   },
   "outputs": [],
   "source": [
    "val sqlContext = new EventSession(spark.sparkContext, db)\n",
    "sqlContext.loadEventTable(tableName).registerTempTable(tableName)\n",
    "sqlContext.loadEventTable(cancelTableName).registerTempTable(cancelTableName)\n",
    "\n",
    "var testDF = sqlContext.sql(s\"select * from $tableName\")\n",
    "testDF.show(5)\n",
    "var testCancelDF = sqlContext.sql(s\"select * from $cancelTableName\")\n",
    "testCancelDF.show(5)"
   ]
  },
  {
   "cell_type": "markdown",
   "metadata": {
    "collapsed": false
   },
   "source": [
    "<p><font size=-1 color=gray>\n",
    "&copy; Copyright 2018 IBM Corp. All Rights Reserved.\n",
    "<p>\n",
    "Licensed under the Apache License, Version 2.0 (the \"License\"); you may not use this file\n",
    "except in compliance with the License. You may obtain a copy of the License at\n",
    "http://www.apache.org/licenses/LICENSE-2.0\n",
    "Unless required by applicable law or agreed to in writing, software distributed under the\n",
    "License is distributed on an \"AS IS\" BASIS, WITHOUT WARRANTIES OR CONDITIONS OF ANY KIND, either\n",
    "express or implied. See the License for the specific language governing permissions and\n",
    "limitations under the License.\n",
    "</font></p>"
   ]
  }
 ],
 "metadata": {
  "kernelspec": {
   "display_name": "Apache Toree - Scala",
   "language": "scala",
   "name": "apache_toree_scala"
  },
  "language_info": {
   "file_extension": ".scala",
   "name": "scala",
   "version": "2.11.8"
  }
 },
 "nbformat": 4,
 "nbformat_minor": 1
}
