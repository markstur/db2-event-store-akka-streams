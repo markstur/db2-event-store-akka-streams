{
 "cells": [
  {
   "cell_type": "markdown",
   "metadata": {},
   "source": [
    "#  Online Retail Orders with Akka and Db2 Event Store\n",
    "\n",
    "This notebook uses the [Scala](https://www.scala-lang.org/) programming language\n",
    "to interact with IBM Db2 Event Stream. It demonstrates how to:\n",
    "\n",
    "* Connect to Event Store\n",
    "* Show the data that you inserted using WebSockets, Alpakka, Akka Streams and Db2 Event Store\n",
    "* Manipulate and aggregate the data with Spark SQL\n",
    "* Visualize the information with interactive Brunel charts\n",
    "\n",
    "Run this notebook after running the setup notebook and after (or while)\n",
    "feeding data in via the `db2-event-store-akka-streams` Scala app."
   ]
  },
  {
   "cell_type": "markdown",
   "metadata": {},
   "source": [
    "## Connect to IBM Db2 Event Store\n",
    "\n",
    "### Determine the IP address of your host\n",
    "\n",
    "Obtain the IP address of the host that you want to connect to by running the appropriate command for your operating system:\n",
    "\n",
    "* On Mac, run: `ifconfig`\n",
    "* On Windows, run: `ipconfig`\n",
    "* On Linux, run: `hostname -i`\n",
    "\n",
    "Edit the `host = \"XXX.XXX.XXX.XXX\"` value in the next cell to provide the IP address."
   ]
  },
  {
   "cell_type": "code",
   "execution_count": null,
   "metadata": {
    "collapsed": false
   },
   "outputs": [],
   "source": [
    "// Set your host IP address\n",
    "var host = \"XXX.XXX.XXX.XXX\"\n",
    "\n",
    "// Port will be 1100 for version 1.1.2 or later (5555 for version 1.1.1)\n",
    "var port = \"1100\"\n",
    "\n",
    "// Table name\n",
    "var tableName = \"OnlineRetailOrderDetail\"\n",
    "\n",
    "// Database name\n",
    "var db = \"TESTDB\""
   ]
  },
  {
   "cell_type": "markdown",
   "metadata": {},
   "source": [
    "## Add Brunel integration\n",
    "Use cell magic to install the Brunel integration for Apache Toree (Scala)."
   ]
  },
  {
   "cell_type": "code",
   "execution_count": null,
   "metadata": {
    "collapsed": false
   },
   "outputs": [],
   "source": [
    "%AddJar -magic https://brunelvis.org/jar/spark-kernel-brunel-all-2.3.jar -f"
   ]
  },
  {
   "cell_type": "markdown",
   "metadata": {},
   "source": [
    "## Import Scala packages\n",
    "\n",
    "Import packages for Scala, Spark, and IBM Db2 Event Store."
   ]
  },
  {
   "cell_type": "code",
   "execution_count": null,
   "metadata": {
    "collapsed": false
   },
   "outputs": [],
   "source": [
    "import sys.process._\n",
    "import java.io.File\n",
    "import scala.concurrent.{Await, Future}\n",
    "import scala.concurrent.duration.Duration\n",
    "import org.apache.log4j.{Level, LogManager, Logger}\n",
    "import org.apache.spark._\n",
    "import org.apache.spark.sql.expressions.Window\n",
    "import org.apache.spark.sql.functions._\n",
    "import org.apache.spark.sql.ibm.event.EventSession\n",
    "import org.apache.spark.sql.Row\n",
    "import org.apache.spark.sql.types._\n",
    "import com.ibm.event.catalog.TableSchema\n",
    "import com.ibm.event.common.ConfigurationReader\n",
    "import com.ibm.event.example.DataGenerator\n",
    "import com.ibm.event.oltp.EventContext\n",
    "import com.ibm.event.oltp.InsertResult"
   ]
  },
  {
   "cell_type": "markdown",
   "metadata": {},
   "source": [
    "## Connect to Event Store"
   ]
  },
  {
   "cell_type": "code",
   "execution_count": null,
   "metadata": {
    "collapsed": false
   },
   "outputs": [],
   "source": [
    "ConfigurationReader.setConnectionEndpoints(host + \":\" + port)"
   ]
  },
  {
   "cell_type": "markdown",
   "metadata": {},
   "source": [
    "## Load data from the Event Store table into a DataFrame"
   ]
  },
  {
   "cell_type": "code",
   "execution_count": null,
   "metadata": {
    "collapsed": true
   },
   "outputs": [],
   "source": [
    "val sqlContext = new EventSession(spark.sparkContext, db)\n",
    "import sqlContext.implicits._\n",
    "\n",
    "val table = sqlContext.loadEventTable(tableName)\n",
    "table.registerTempTable(tableName)"
   ]
  },
  {
   "cell_type": "markdown",
   "metadata": {},
   "source": [
    "## Show the count and latest rows\n",
    "Running this cell over and over is the fastest way to see that you have\n",
    "successfully been inserting rows.\n",
    "\n",
    "> Note: A timestamp was used for the `id`, so we can use that to sort events as they were received."
   ]
  },
  {
   "cell_type": "code",
   "execution_count": null,
   "metadata": {
    "collapsed": false
   },
   "outputs": [],
   "source": [
    "sqlContext.sql(s\"select count(*) from $tableName\").show()\n",
    "sqlContext.sql(s\"select * from $tableName order by id desc\").show(3)  // Show most recent 3"
   ]
  },
  {
   "cell_type": "markdown",
   "metadata": {},
   "source": [
    "Cell magic provides a is a prettier way of showing the latest 3 rows:"
   ]
  },
  {
   "cell_type": "code",
   "execution_count": null,
   "metadata": {
    "collapsed": false
   },
   "outputs": [],
   "source": [
    "%%dataframe --limit 3\n",
    "sqlContext.sql(s\"select * from $tableName order by id desc\")"
   ]
  },
  {
   "cell_type": "markdown",
   "metadata": {},
   "source": [
    "## Aggregate and show the data\n",
    "\n",
    "Use Spark SQL to build DataFrames with aggregated data."
   ]
  },
  {
   "cell_type": "markdown",
   "metadata": {},
   "source": [
    "### Calculate aggregated  gross sales and units by product\n",
    "#### Show top 10 by gross sales"
   ]
  },
  {
   "cell_type": "code",
   "execution_count": null,
   "metadata": {
    "collapsed": false,
    "scrolled": true
   },
   "outputs": [],
   "source": [
    "%%dataframe --limit 10\n",
    "sqlContext.sql(\"select Description as Product, sum(Quantity) as Units, sum(CAST (UnitPrice as DECIMAL(15,2)) * Quantity) as Gross\" + s\" from $tableName\" + \" group by Description order by 3 desc\")"
   ]
  },
  {
   "cell_type": "markdown",
   "metadata": {},
   "source": [
    "#### Show top 10 by units"
   ]
  },
  {
   "cell_type": "code",
   "execution_count": null,
   "metadata": {
    "collapsed": false,
    "scrolled": true
   },
   "outputs": [],
   "source": [
    "%%dataframe --limit 10\n",
    "val aggDF = sqlContext.sql(\"select Description as Product, sum(Quantity) as Units, sum(CAST (UnitPrice as DECIMAL(15,2)) * Quantity) as Gross\" + s\" from $tableName\" + \" group by Description order by 2 desc\")\n"
   ]
  },
  {
   "cell_type": "markdown",
   "metadata": {},
   "source": [
    "## Visualize the data with Brunel\n",
    "\n",
    "Because people can \"see\" and analyze data better with nice charts (it's not just eye candy)."
   ]
  },
  {
   "cell_type": "markdown",
   "metadata": {},
   "source": [
    "### Gross sales by product"
   ]
  },
  {
   "cell_type": "code",
   "execution_count": null,
   "metadata": {
    "collapsed": false
   },
   "outputs": [],
   "source": [
    "%%brunel data('aggDF') \n",
    "bar at(0,0,50,100) title(\"Gross Sales by Product\")\n",
    "  x(Description) y(Gross)\n",
    "  tooltip(Description, Gross) color(Gross:BlueGreens) legends(none) opacity(#selection:.5)\n",
    "  axes(x:'Product',y:'Gross') sort(Gross) interaction(select)|\n",
    "treemap at(55,5,100,70)\n",
    "  sort(Gross) size(Gross) color(Gross:BlueGreens) label(Gross) legends(none)\n",
    "  tooltip(Description, Gross) opacity(#selection:.5) interaction(select)\n",
    ":: width=1000, height=600"
   ]
  },
  {
   "cell_type": "code",
   "execution_count": null,
   "metadata": {
    "collapsed": false
   },
   "outputs": [],
   "source": [
    "%%brunel data('aggDF') \n",
    "bar at(0,0,50,100) title(\"Units by Product\")\n",
    "  x(Description) y(Quantity)\n",
    "  tooltip(Description, Quantity) color(Quantity:PurpleBlues) legends(none) opacity(#selection:.5)\n",
    "  axes(x:'Product',y:'Units') sort(Quantity) interaction(select)|\n",
    "treemap at(55,5,100,70)\n",
    "  sort(Quantity) size(Quantity) color(Quantity:PurpleBlues) label(Quantity) legends(none)\n",
    "  tooltip(Description, Quantity) opacity(#selection:.5) interaction(select)\n",
    ":: width=1000, height=600"
   ]
  },
  {
   "cell_type": "markdown",
   "metadata": {},
   "source": [
    "## Manipulate the the data\n",
    "\n",
    "For example, we can take the timestamp and determine year, month, day and most interesting for this example -- **\"day of week\"**.\n",
    "Let's see look at the data with an added dimension that shows Sun, Mon, Tue, Wed, Thu, Fri, and Sat.\n",
    "Also notice... now we choose to count the invoices (there are multiple detail records per invoice) instead of units or $."
   ]
  },
  {
   "cell_type": "markdown",
   "metadata": {},
   "source": [
    "### Invoices by day of week\n",
    "#### Use the timestamp `id` column to determine day-of-week\n",
    "Remember we used a timestamp as the events were received. So this method shows you the day you fed the data in. Which might be interesting if you are emulating a live system or just want to see your activity show up."
   ]
  },
  {
   "cell_type": "code",
   "execution_count": null,
   "metadata": {
    "collapsed": false
   },
   "outputs": [],
   "source": [
    "val eventTimeDF = sqlContext.sql(\n",
    "  \"select InvoiceNo, CAST (id / 1000 as TIMESTAMP) as EventTime\"\n",
    "  + s\" from $tableName\"\n",
    ")\n",
    "val eventDayDF = eventTimeDF.withColumn(\"DayOfWeek\",date_format(eventTimeDF(\"EventTime\"), \"E\")).drop(\"EventTime\")\n",
    "eventDayDF.show(5)\n",
    "val eventInvoiceDayDF = eventDayDF.groupBy(\"DayOfWeek\", \"InvoiceNo\").count\n",
    "eventInvoiceDayDF.show()"
   ]
  },
  {
   "cell_type": "markdown",
   "metadata": {},
   "source": [
    "#### Use the InvoiceDate column to determine day-of-week\n",
    "This allows you to work with our example CSV data and see a variety of days (even if you ran this in one day)."
   ]
  },
  {
   "cell_type": "code",
   "execution_count": null,
   "metadata": {
    "collapsed": false,
    "scrolled": false
   },
   "outputs": [],
   "source": [
    "val invoiceTimeDF = sqlContext.sql(\n",
    "  \"select InvoiceNo, InvoiceDate\"\n",
    "  + s\" from $tableName\"\n",
    ")\n",
    "val invoiceDayDF = invoiceTimeDF.withColumn(\"DayOfWeek\",date_format(invoiceTimeDF(\"InvoiceDate\"), \"E\")).drop(\"InvoiceDate\")\n",
    "invoiceDayDF.show(5)\n",
    "val countInvoicesDF = invoiceDayDF.groupBy(\"DayOfWeek\", \"InvoiceNo\").count\n",
    "countInvoicesDF.show()"
   ]
  },
  {
   "cell_type": "code",
   "execution_count": null,
   "metadata": {
    "collapsed": false
   },
   "outputs": [],
   "source": [
    "%%brunel data('countInvoicesDF') \n",
    "x(DayOfWeek) y(#count)\n",
    "bar\n",
    "  count(InvoiceNo)\n"
   ]
  },
  {
   "cell_type": "markdown",
   "metadata": {},
   "source": [
    "### Data feed statistics by time and country"
   ]
  },
  {
   "cell_type": "code",
   "execution_count": null,
   "metadata": {
    "collapsed": false
   },
   "outputs": [],
   "source": [
    "val df = sqlContext.sql(\n",
    "  \"select Country, sum(Quantity) as Quantity, CAST (id / 1000 as TIMESTAMP) as EventTime\"\n",
    "  + s\" from $tableName\"\n",
    "  + \" group by Country, id order by 2 desc\")\n",
    "df.printSchema()\n",
    "val countryDF2 = (\n",
    "  df.withColumn(\"Year\",year(df(\"EventTime\")))\n",
    "    .withColumn(\"Month\",month(df(\"EventTime\")))\n",
    "    .withColumn(\"Week\",weekofyear(df(\"EventTime\")))\n",
    "    .withColumn(\"Day\",dayofmonth(df(\"EventTime\")))\n",
    "    .withColumn(\"DayOfWeek\",date_format(df(\"EventTime\"), \"E\"))\n",
    ")\n",
    "countryDF2.printSchema()\n",
    "countryDF2.show(3)"
   ]
  },
  {
   "cell_type": "code",
   "execution_count": null,
   "metadata": {
    "collapsed": false,
    "scrolled": false
   },
   "outputs": [],
   "source": [
    "val featureMetrics = countryDF2.select(\"Country\", \"DayOfWeek\", \"Quantity\").groupBy(\"Country\", \"DayOfWeek\").agg(sum(\"Quantity\")).\n",
    "  withColumnRenamed(\"sum(Quantity)\",\"Quantity\")\n",
    "\n",
    "featureMetrics.show()"
   ]
  },
  {
   "cell_type": "code",
   "execution_count": null,
   "metadata": {
    "collapsed": false
   },
   "outputs": [],
   "source": [
    "%%brunel data('featureMetrics') \n",
    "x(Country) y(Quantity)\n",
    "stack bar\n",
    "  sum(Quantity) x(Country) color(DayOfWeek)|\n",
    "stack bar y(Quantity) x(DayOfWeek) color(Country)"
   ]
  },
  {
   "cell_type": "code",
   "execution_count": null,
   "metadata": {
    "collapsed": false
   },
   "outputs": [],
   "source": [
    "%%brunel data('countryDF2') \n",
    "title(\"Units by Time and Country\")\n",
    "x(DayOfWeek) y(Quantity)\n",
    "stack bar\n",
    "  sum(Quantity) color(Country) tooltip(#all)\n",
    "  legends(none) interaction(select)\n",
    ":: width=1000, height=300"
   ]
  },
  {
   "cell_type": "code",
   "execution_count": null,
   "metadata": {
    "collapsed": false
   },
   "outputs": [],
   "source": [
    "val CountryDF3 = countryDF2.select(\"Country\", \"Quantity\",\"DayOfWeek\").groupBy(\"Country\",\"DayOfWeek\").agg(sum(\"Quantity\")).\n",
    "  withColumnRenamed(\"sum(Quantity)\",\"Quantity\")"
   ]
  },
  {
   "cell_type": "code",
   "execution_count": null,
   "metadata": {
    "collapsed": false
   },
   "outputs": [],
   "source": [
    "%%brunel data('CountryDF3') \n",
    "x(Country) y(Quantity) color(Quantity:BlueYellows) at(0,0,50,100) opacity(#selection:.7)\n",
    "stack bar\n",
    "  interaction(select)|\n",
    "map('World') opacity(#selection:.7) at(50,0,100,100) x(Country) color(Quantity:BlueYellows) tooltip(#all)\n",
    ":: width=1000, height=300\n"
   ]
  },
  {
   "cell_type": "markdown",
   "metadata": {},
   "source": [
    "<p><font size=-1 color=gray>\n",
    "&copy; Copyright 2018 IBM Corp. All Rights Reserved.\n",
    "<p>\n",
    "Licensed under the Apache License, Version 2.0 (the \"License\"); you may not use this file\n",
    "except in compliance with the License. You may obtain a copy of the License at\n",
    "http://www.apache.org/licenses/LICENSE-2.0\n",
    "Unless required by applicable law or agreed to in writing, software distributed under the\n",
    "License is distributed on an \"AS IS\" BASIS, WITHOUT WARRANTIES OR CONDITIONS OF ANY KIND, either\n",
    "express or implied. See the License for the specific language governing permissions and\n",
    "limitations under the License.\n",
    "</font></p>"
   ]
  }
 ],
 "metadata": {
  "kernelspec": {
   "display_name": "Apache Toree - Scala",
   "language": "scala",
   "name": "apache_toree_scala"
  },
  "language_info": {
   "file_extension": ".scala",
   "name": "scala",
   "version": "2.11.8"
  }
 },
 "nbformat": 4,
 "nbformat_minor": 1
}
